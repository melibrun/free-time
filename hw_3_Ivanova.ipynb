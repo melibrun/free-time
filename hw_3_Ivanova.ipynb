{
 "cells": [
  {
   "cell_type": "code",
   "execution_count": 7,
   "metadata": {},
   "outputs": [],
   "source": [
    "import pandas as pd\n",
    "import random as rnd\n",
    "import seaborn as sb\n",
    "import threading"
   ]
  },
  {
   "attachments": {},
   "cell_type": "markdown",
   "metadata": {},
   "source": [
    "### Задание\n",
    "Написать программу для построения выравнивания алгоритмом Смита-Ватермана. \n",
    "Штрафы за вставки-делеции – линейные (не аффинные). Параметры – премия за \n",
    "совпадение m=1, штраф за замену mism=1, штраф за делецию d=1. Программа должна \n",
    "выдавать собственно выравнивание (последовательности, написанные друг под \n",
    "другом с делециями) и вес выравнивания.  \n",
    "Провести тестирование программы на понятных примерах – когда \n",
    "последовательности совпадают, когда последовательности имеют 1..3 замены, 1..3 \n",
    "делеции. Поскольку ищется локальное выравнивание, то в тесте должны быть \n",
    "варианты, когда начала и/или концы последовательностей разные.  \n",
    "* бонус (начисляются дополнительные баллы). Исследовать поведение веса \n",
    "выравнивания случайных независимых последовательностей от их длины."
   ]
  },
  {
   "cell_type": "code",
   "execution_count": 8,
   "metadata": {},
   "outputs": [],
   "source": [
    "#base variables\n",
    "m = 1       #match\n",
    "s = -1      #mismatch\n",
    "d = -1      #del\n",
    "dict = [\"A\",\"T\",\"G\",\"C\"]\n",
    "num_of_tests = 20\n",
    "max_len = 1500\n",
    "start_len = 5"
   ]
  },
  {
   "cell_type": "code",
   "execution_count": 9,
   "metadata": {},
   "outputs": [],
   "source": [
    "def weight(str_1, str_2):\n",
    "\n",
    "    str_1 = str_1.upper().strip()\n",
    "\n",
    "    # making martix to contain weights\n",
    "    matr = []\n",
    "    tmp_matr = []\n",
    "    tmp_matr.append(0)\n",
    "\n",
    "    # making matrix to contain direktions\n",
    "    dir_matr = []\n",
    "    tmp_dir_matr = []\n",
    "    tmp_dir_matr.append(\"\")\n",
    "\n",
    "    # actually creating matrixes\n",
    "    for i in range(len(str_1)):\n",
    "        tmp_matr.append(0)\n",
    "        tmp_dir_matr.append(\"l\")\n",
    "    matr.append(tmp_matr)\n",
    "    dir_matr.append(tmp_dir_matr)\n",
    "    for i in range(len(str_2)):\n",
    "        tmp_matr = []\n",
    "        tmp_dir_matr = []\n",
    "        tmp_matr.append(0)\n",
    "        tmp_dir_matr.append(\"u\")\n",
    "        for j in str_1:\n",
    "            tmp_matr.append(0)\n",
    "            tmp_dir_matr.append(\"\")\n",
    "        matr.append(tmp_matr)\n",
    "        dir_matr.append(tmp_dir_matr)\n",
    "\n",
    "    # making cycles to work on diagonals\n",
    "    for i in range(2, len(str_2) + len(str_1) + 1):\n",
    "        for j in range(max(1, i - len(str_1)), min(i, len(str_2)+1)):\n",
    "\n",
    "            # calculating possible weights\n",
    "            k1 = 0\n",
    "            k2 = int(matr[j-1][i-j]) + d\n",
    "            k3 = int(matr[j][i-j-1]) + d\n",
    "            k4 = int(matr[j-1][i-j-1])\n",
    "            if str_2[j-1] == str_1[i-j-1]:\n",
    "                k4 = m + k4\n",
    "                match = \"\"\n",
    "            else:\n",
    "                k4 = s + k4\n",
    "                match = \"m\"\n",
    "\n",
    "            # choosing max weight and insert values to matrixes\n",
    "            maxi = max(k1, k2, k3, k4)\n",
    "            if k1 == maxi:\n",
    "                matr[j][i-j] = k1\n",
    "                dir_matr[j][i-j] = \"0\"\n",
    "            elif k2 == maxi:\n",
    "                matr[j][i-j] = k2\n",
    "                dir_matr[j][i-j] = \"u\"\n",
    "            elif k3 == maxi:\n",
    "                matr[j][i-j] = k3\n",
    "                dir_matr[j][i-j] = \"l\"\n",
    "            elif k4 == maxi:\n",
    "                matr[j][i-j] = k4\n",
    "                dir_matr[j][i-j] = \"d\" + match\n",
    "\n",
    "    # finding max weight\n",
    "    F_opt = max(max(l) for l in matr)\n",
    "    return F_opt\n"
   ]
  },
  {
   "cell_type": "code",
   "execution_count": 10,
   "metadata": {},
   "outputs": [],
   "source": [
    "def Random_Line(l):\n",
    "    r = \"\"\n",
    "    for i in range(l):\n",
    "        r += rnd.choice(dict)\n",
    "    return r"
   ]
  },
  {
   "cell_type": "code",
   "execution_count": 11,
   "metadata": {},
   "outputs": [],
   "source": [
    "data = {\"len\":[], \"weight\":[]}\n",
    "for i in range(start_len, max_len):\n",
    "    for j in range( num_of_tests):\n",
    "\n",
    "        data[\"weight\"].append(weight(Random_Line(i),Random_Line(i))/i)\n",
    "        data[\"len\"].append(i)"
   ]
  },
  {
   "cell_type": "code",
   "execution_count": 12,
   "metadata": {},
   "outputs": [
    {
     "data": {
      "text/plain": [
       "<AxesSubplot:xlabel='len', ylabel='weight'>"
      ]
     },
     "execution_count": 12,
     "metadata": {},
     "output_type": "execute_result"
    },
    {
     "data": {
      "image/png": "[encoded data removed]",
      "text/plain": [
       "<Figure size 432x288 with 1 Axes>"
      ]
     },
     "metadata": {
      "needs_background": "light"
     },
     "output_type": "display_data"
    }
   ],
   "source": [
    "\n",
    "dt = pd.DataFrame(data)\n",
    "sb.lineplot(data = dt, x=\"len\", y=\"weight\")"
   ]
  },
  {
   "cell_type": "code",
   "execution_count": null,
   "metadata": {},
   "outputs": [],
   "source": []
  }
 ],
 "metadata": {
  "kernelspec": {
   "display_name": "Python 3",
   "language": "python",
   "name": "python3"
  },
  "language_info": {
   "codemirror_mode": {
    "name": "ipython",
    "version": 3
   },
   "file_extension": ".py",
   "mimetype": "text/x-python",
   "name": "python",
   "nbconvert_exporter": "python",
   "pygments_lexer": "ipython3",
   "version": "3.9.12"
  },
  "orig_nbformat": 4,
  "vscode": {
   "interpreter": {
    "hash": "40dbf69e52cc40820e0b1b9eca6a636f0b386a255a6940bc5796a66aff3ef71d"
   }
  }
 },
 "nbformat": 4,
 "nbformat_minor": 2
}
