{
  "cells": [
    {
      "cell_type": "markdown",
      "metadata": {
        "id": "view-in-github",
        "colab_type": "text"
      },
      "source": [
        "<a href=\"https://colab.research.google.com/github/melibrun/free-time/blob/main/Bioinf_Markov_Dz_4_Ivanova.ipynb\" target=\"_parent\"><img src=\"https://colab.research.google.com/assets/colab-badge.svg\" alt=\"Open In Colab\"/></a>"
      ]
    },
    {
      "cell_type": "code",
      "execution_count": null,
      "metadata": {
        "id": "xW1wwk9Gs_wG"
      },
      "outputs": [],
      "source": [
        "class Markov:\n",
        "    def __init__(self, states,emissions,p_of_transition):\n",
        "        self.states = states\n",
        "        self.emissions = emissions\n",
        "        self.p_of_transition = p_of_transition\n",
        "    \n",
        "\n",
        "\n",
        "        \n",
        "    def Viterbi(self, string):\n",
        "        Pr = []\n",
        "        Prev_state = []\n",
        "        Pr.append({})\n",
        "        Prev_state.append({})\n",
        "        for state in self.states:\n",
        "            Pr[0][state] = self.p_of_transition[\"Begin\"][state] * self.emissions[state][string[0]]\n",
        "            Prev_state[0][state] = \"Begin\"\n",
        "        for i in range(1,len(string)):\n",
        "            Pr.append({})\n",
        "            Prev_state.append({})\n",
        "            for state in self.states:\n",
        "                max = 0\n",
        "                max_state = \"Bg\"\n",
        "                for pr_state in self.states:\n",
        "                    kur = Pr[i-1][pr_state] * self.p_of_transition[pr_state][state] * self.emissions[state][string[i]]\n",
        "                    if kur > max:\n",
        "                        max = kur\n",
        "                        max_state = pr_state\n",
        "                Pr[i][state] = max\n",
        "                Prev_state[i][state] = max_state\n",
        "        Pr.append({})\n",
        "        Prev_state.append({})\n",
        "        for pr_state in self.states:\n",
        "            kur = Pr[i][pr_state] * self.p_of_transition[pr_state][\"End\"]\n",
        "            if kur > max:\n",
        "                max = kur\n",
        "                max_state = pr_state\n",
        "        Pr[i+1][\"End\"] = max\n",
        "        Prev_state[i+1][\"End\"] = max_state\n",
        "\n",
        "         \n",
        "\n",
        "        kur_state = \"End\"\n",
        "        i += 1\n",
        "        ansv = \"\"\n",
        "        while Prev_state[i][kur_state] != \"Begin\":\n",
        "            if Prev_state[i][kur_state] == \"Bg\":\n",
        "                ansv = string[i-1].lower() + ansv\n",
        "            else:\n",
        "                ansv = string[i-1] + ansv\n",
        "            kur_state = Prev_state[i][kur_state]\n",
        "            i -= 1\n",
        "            \n",
        "        \n",
        "        return ansv, max\n",
        "    \n",
        "\n",
        "    def Forward_Backward(self, string, pos):\n",
        "        alpha = [{\"Begin\": 1}]\n",
        "        i = 0\n",
        "        for i in range(pos):\n",
        "            alpha.append({})\n",
        "            for state in self.states:\n",
        "                s = 0\n",
        "                for pr_state in alpha[i].keys():\n",
        "                    s += alpha[i][pr_state] * self.p_of_transition[pr_state][state] * self.emissions[state][string[i]]\n",
        "                alpha[i+1][state] = s\n",
        "        s = 0\n",
        "        for pr_state in alpha[i].keys():\n",
        "            s += alpha[i][pr_state] * self.p_of_transition[pr_state][\"Bg\"] * self.emissions[\"Bg\"][string[pos]]\n",
        "        ansv = s\n",
        "        i = 0\n",
        "        betta = [{\"End\":1}]\n",
        "        for i in range(len(string) - pos ):\n",
        "            betta.append({})\n",
        "            for state in self.states:\n",
        "                s = 0\n",
        "                for nxt_state in betta[i].keys():\n",
        "                    s += betta[i][nxt_state] * self.p_of_transition[state][nxt_state] * self.emissions[state][string[len(string) - i - 1]]\n",
        "                betta[i+1][state] = s\n",
        "        s=0\n",
        "        for nxt_state in betta[i].keys():\n",
        "            s += betta[i][nxt_state] * self.p_of_transition[\"Bg\"][nxt_state] \n",
        "        ansv *= s\n",
        "\n",
        "        for i in range(len(string)):\n",
        "            alpha.append({})\n",
        "            for state in self.states:\n",
        "                s = 0\n",
        "                for pr_state in alpha[i].keys():\n",
        "                    s += alpha[i][pr_state] * self.p_of_transition[pr_state][state] * self.emissions[state][string[i]]\n",
        "                alpha[i+1][state] = s\n",
        "        s = 0\n",
        "        for pr_state in alpha[i].keys():\n",
        "            s += alpha[i][pr_state] * self.p_of_transition[pr_state][\"End\"]\n",
        "\n",
        "        return ansv / s\n",
        "        \n",
        "        \n",
        "\n",
        "\n",
        "\n",
        "\n",
        "\n",
        "\n",
        "    "
      ]
    },
    {
      "cell_type": "code",
      "execution_count": null,
      "metadata": {
        "id": "tRN0l2h9s_wM"
      },
      "outputs": [],
      "source": [
        "states_s = [ \"Bg\", \"A\", \"C\", \"G\", \"T\", \"End\"]\n",
        "p_of_transition_s = {\n",
        "    \"Begin\":{   \"Bg\":0.99,  \"A\":0.01,   \"C\":0,  \"G\":0,  \"T\":0,  \"End\":0     },\n",
        "    \"Bg\":{      \"Bg\":0.98,  \"A\":0.01,   \"C\":0,  \"G\":0,  \"T\":0,  \"End\":0.01  },\n",
        "    \"A\":{       \"Bg\":0,     \"A\":0,      \"C\":1,  \"G\":0,  \"T\":0,  \"End\":0     },\n",
        "    \"C\":{       \"Bg\":0,     \"A\":0,      \"C\":0,  \"G\":1,  \"T\":0,  \"End\":0     },\n",
        "    \"G\":{       \"Bg\":0,     \"A\":0,      \"C\":0,  \"G\":0,  \"T\":1,  \"End\":0     },\n",
        "    \"T\":{       \"Bg\":0.98,  \"A\":0.01,   \"C\":0,  \"G\":0,  \"T\":0,  \"End\":0.01  },\n",
        "    \"End\":{     \"Bg\":0,     \"A\":0,      \"C\":0,  \"G\":0,  \"T\":0,  \"End\":0     }\n",
        "    }\n",
        "emissions_s = {\n",
        "    \"Bg\":   {   \"A\":0.25,  \"C\":0.25,   \"G\":0.25,   \"T\":0.25    }, \n",
        "    \"A\":    {   \"A\":1,     \"C\":0,      \"G\":0,      \"T\":0       },    \n",
        "    \"C\":    {   \"A\":0,     \"C\":1,      \"G\":0,      \"T\":0       }, \n",
        "    \"G\":    {   \"A\":0,     \"C\":0,      \"G\":1,      \"T\":0       }, \n",
        "    \"T\":    {   \"A\":0,     \"C\":0,      \"G\":0,      \"T\":1       },\n",
        "    \"End\":  {   \"A\":0,     \"C\":0,      \"G\":0,      \"T\":0       }\n",
        "}\n"
      ]
    },
    {
      "cell_type": "code",
      "execution_count": null,
      "metadata": {
        "id": "m5o7Gv9hs_wN",
        "outputId": "bc001a79-dc24-4e15-e61b-983bcc077972",
        "colab": {
          "base_uri": "https://localhost:8080/"
        }
      },
      "outputs": [
        {
          "output_type": "stream",
          "name": "stdout",
          "text": [
            "GATAGGATTATCATTCATAAGTTTCAGAGCAATGTCCTTATTCTGGAACTTGGATTTATGGCTCTTTTGGTTTAATTTCGCCTGATTCTTGATCTCCTTTAGCTTCTCGACGTGGGCCTTTTTCTTGCCATATGGATCCGCTGCACGGTCCTGTTCCCTAGCATGTACGTGAGCGTATTTCCTTTTAAACCACGACGCTTTGTCTTCATTCAACGTTTCCCATTGTTTTTTTCTACTATTGCTTTGCTGTGGGAAAAACTTATCGAAAGATGACGACTTTTTCTTAATTCTCGTTTTAAGAGCTTGGTGAGCGCTAGGAGTCACTGCCAG\n"
          ]
        }
      ],
      "source": [
        "f = \"gataggattatcattcataagtttcagagcaatgtccttattctggaacttggatttatggctcttttggtttaatttcgcctgattcttgatctcctttagcttctcgacgtgggcctttttcttgccatatggatccgctgcacggtcctgttccctagcatgtacgtgagcgtatttccttttaaaccacgacgctttgtcttcattcaacgtttcccattgtttttttctactattgctttgctgtgggaaaaacttatcgaaagatgacgactttttcttaattctcgttttaagagcttggtgagcgctaggagtcactgccag\"\n",
        "string = f.upper()\n",
        "print(string)"
      ]
    },
    {
      "cell_type": "code",
      "execution_count": null,
      "metadata": {
        "id": "ekHCzoJjs_wQ"
      },
      "outputs": [],
      "source": [
        "M1 = Markov(states_s,emissions_s,p_of_transition_s)\n"
      ]
    },
    {
      "cell_type": "code",
      "execution_count": null,
      "metadata": {
        "id": "nUugSM0es_wR"
      },
      "outputs": [],
      "source": [
        "a = {\"pos\":[],\"pr\":[]}\n",
        "for i in range(len(string)):\n",
        "    a[\"pos\"].append(i)\n",
        "    a[\"pr\"].append(M1.Forward_Backward(string,i))\n"
      ]
    },
    {
      "cell_type": "code",
      "execution_count": null,
      "metadata": {
        "id": "1UxTOWxes_wR"
      },
      "outputs": [],
      "source": [
        "import pandas as pd\n",
        "import random as rnd\n",
        "import seaborn as sb"
      ]
    },
    {
      "cell_type": "code",
      "execution_count": null,
      "metadata": {
        "id": "P1baaiSHs_wS",
        "outputId": "89b8a2bd-ba35-4de4-e4ee-246c20c6ae10",
        "colab": {
          "base_uri": "https://localhost:8080/",
          "height": 297
        }
      },
      "outputs": [
        {
          "output_type": "execute_result",
          "data": {
            "text/plain": [
              "<matplotlib.axes._subplots.AxesSubplot at 0x7f495b9c9490>"
            ]
          },
          "metadata": {},
          "execution_count": 8
        },
        {
          "output_type": "display_data",
          "data": {
            "text/plain": [
              "<Figure size 432x288 with 1 Axes>"
            ],
            "image/png": "[encoded data removed]"
          },
          "metadata": {
            "needs_background": "light"
          }
        }
      ],
      "source": [
        "dt = pd.DataFrame(a)\n",
        "sb.lineplot(data = dt, x=\"pos\", y=\"pr\")"
      ]
    }
  ],
  "metadata": {
    "interpreter": {
      "hash": "f20dc2036dd074feba5af272d6b9835fc1ea78e65018a3a7dece492780310baf"
    },
    "kernelspec": {
      "display_name": "Python 3.9.7 ('base')",
      "language": "python",
      "name": "python3"
    },
    "language_info": {
      "codemirror_mode": {
        "name": "ipython",
        "version": 3
      },
      "file_extension": ".py",
      "mimetype": "text/x-python",
      "name": "python",
      "nbconvert_exporter": "python",
      "pygments_lexer": "ipython3",
      "version": "3.9.7"
    },
    "orig_nbformat": 4,
    "colab": {
      "provenance": [],
      "include_colab_link": true
    }
  },
  "nbformat": 4,
  "nbformat_minor": 0
}